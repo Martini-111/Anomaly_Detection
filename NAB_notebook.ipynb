{
 "cells": [
  {
   "cell_type": "code",
   "execution_count": 89,
   "id": "5c0a9d48",
   "metadata": {},
   "outputs": [],
   "source": [
    "import kagglehub\n",
    "import numpy as np\n",
    "import pandas as pd\n",
    "import matplotlib.pyplot as plt\n",
    "import tensorflow as tf\n",
    "import keras\n",
    "import jinja2\n",
    "import os\n",
    "from pathlib import Path\n",
    "from dotenv import load_dotenv\n",
    "from sklearn.model_selection import train_test_split\n",
    "from sklearn.preprocessing import MinMaxScaler, StandardScaler, RobustScaler\n",
    "from sklearn.ensemble import IsolationForest\n"
   ]
  },
  {
   "cell_type": "code",
   "execution_count": 90,
   "id": "45f1bbbc",
   "metadata": {},
   "outputs": [
    {
     "name": "stdout",
     "output_type": "stream",
     "text": [
      "Path to dataset files:  C:\\Users\\Martin James\\.cache\\kagglehub\\datasets\\boltzmannbrain\\nab\\versions\\1\n"
     ]
    }
   ],
   "source": [
    "path = kagglehub.dataset_download(\"boltzmannbrain/nab\")\n",
    "print(\"Path to dataset files: \", path)"
   ]
  },
  {
   "cell_type": "code",
   "execution_count": 91,
   "id": "39bd77cc",
   "metadata": {},
   "outputs": [
    {
     "data": {
      "text/plain": [
       "True"
      ]
     },
     "execution_count": 91,
     "metadata": {},
     "output_type": "execute_result"
    }
   ],
   "source": [
    "load_dotenv()"
   ]
  },
  {
   "cell_type": "code",
   "execution_count": 92,
   "id": "58a8485d",
   "metadata": {},
   "outputs": [],
   "source": [
    "# pd.read_csv(r\"C:\\Users\\Martin James\\.cache\\kagglehub\\datasets\\boltzmannbrain\\nab\\versions\\1\\realAWSCloudwatch\\realAWSCloudwatch\\\")\n",
    "AWS_dir_path = Path(os.getenv(\"AWS_DIR_PATH\"))\n",
    "import os\n",
    "# all_AWS_paths = [os.path.join(AWS_dir_path, file) for file in os.listdir(AWS_dir_path) if file.endswith(\".csv\")]\n",
    "all_AWS_paths = [AWS_dir_path / file for file in os.listdir(str(AWS_dir_path)) if file.endswith(\".csv\")]\n",
    "\n",
    "# for my_path in all_AWS_paths:\n",
    "#     print(my_path.name)"
   ]
  },
  {
   "cell_type": "code",
   "execution_count": 93,
   "id": "479b38fd",
   "metadata": {},
   "outputs": [
    {
     "data": {
      "text/html": [
       "<style type=\"text/css\">\n",
       "</style>\n",
       "<table id=\"T_c724c\">\n",
       "  <caption>ec2_cpu_utilization_24ae8d.csv</caption>\n",
       "  <thead>\n",
       "    <tr>\n",
       "      <th class=\"blank level0\" >&nbsp;</th>\n",
       "      <th id=\"T_c724c_level0_col0\" class=\"col_heading level0 col0\" >timestamp</th>\n",
       "      <th id=\"T_c724c_level0_col1\" class=\"col_heading level0 col1\" >value</th>\n",
       "      <th id=\"T_c724c_level0_col2\" class=\"col_heading level0 col2\" >std_value</th>\n",
       "    </tr>\n",
       "  </thead>\n",
       "  <tbody>\n",
       "    <tr>\n",
       "      <th id=\"T_c724c_level0_row0\" class=\"row_heading level0 row0\" >4030</th>\n",
       "      <td id=\"T_c724c_row0_col0\" class=\"data row0 col0\" >2014-02-28 14:20:00</td>\n",
       "      <td id=\"T_c724c_row0_col1\" class=\"data row0 col1\" >0.134000</td>\n",
       "      <td id=\"T_c724c_row0_col2\" class=\"data row0 col2\" >0.081190</td>\n",
       "    </tr>\n",
       "    <tr>\n",
       "      <th id=\"T_c724c_level0_row1\" class=\"row_heading level0 row1\" >4031</th>\n",
       "      <td id=\"T_c724c_row1_col0\" class=\"data row1 col0\" >2014-02-28 14:25:00</td>\n",
       "      <td id=\"T_c724c_row1_col1\" class=\"data row1 col1\" >0.134000</td>\n",
       "      <td id=\"T_c724c_row1_col2\" class=\"data row1 col2\" >0.081190</td>\n",
       "    </tr>\n",
       "  </tbody>\n",
       "</table>\n"
      ],
      "text/plain": [
       "<pandas.io.formats.style.Styler at 0x18bde70e8f0>"
      ]
     },
     "metadata": {},
     "output_type": "display_data"
    },
    {
     "data": {
      "text/html": [
       "<style type=\"text/css\">\n",
       "</style>\n",
       "<table id=\"T_83863\">\n",
       "  <caption>ec2_cpu_utilization_53ea38.csv</caption>\n",
       "  <thead>\n",
       "    <tr>\n",
       "      <th class=\"blank level0\" >&nbsp;</th>\n",
       "      <th id=\"T_83863_level0_col0\" class=\"col_heading level0 col0\" >timestamp</th>\n",
       "      <th id=\"T_83863_level0_col1\" class=\"col_heading level0 col1\" >value</th>\n",
       "      <th id=\"T_83863_level0_col2\" class=\"col_heading level0 col2\" >std_value</th>\n",
       "    </tr>\n",
       "  </thead>\n",
       "  <tbody>\n",
       "    <tr>\n",
       "      <th id=\"T_83863_level0_row0\" class=\"row_heading level0 row0\" >4030</th>\n",
       "      <td id=\"T_83863_row0_col0\" class=\"data row0 col0\" >2014-02-28 14:20:00</td>\n",
       "      <td id=\"T_83863_row0_col1\" class=\"data row0 col1\" >1.824000</td>\n",
       "      <td id=\"T_83863_row0_col2\" class=\"data row0 col2\" >-0.054759</td>\n",
       "    </tr>\n",
       "    <tr>\n",
       "      <th id=\"T_83863_level0_row1\" class=\"row_heading level0 row1\" >4031</th>\n",
       "      <td id=\"T_83863_row1_col0\" class=\"data row1 col0\" >2014-02-28 14:25:00</td>\n",
       "      <td id=\"T_83863_row1_col1\" class=\"data row1 col1\" >1.766000</td>\n",
       "      <td id=\"T_83863_row1_col2\" class=\"data row1 col2\" >-0.626496</td>\n",
       "    </tr>\n",
       "  </tbody>\n",
       "</table>\n"
      ],
      "text/plain": [
       "<pandas.io.formats.style.Styler at 0x18bdc1b6080>"
      ]
     },
     "metadata": {},
     "output_type": "display_data"
    },
    {
     "data": {
      "text/html": [
       "<style type=\"text/css\">\n",
       "</style>\n",
       "<table id=\"T_d51ec\">\n",
       "  <caption>ec2_cpu_utilization_5f5533.csv</caption>\n",
       "  <thead>\n",
       "    <tr>\n",
       "      <th class=\"blank level0\" >&nbsp;</th>\n",
       "      <th id=\"T_d51ec_level0_col0\" class=\"col_heading level0 col0\" >timestamp</th>\n",
       "      <th id=\"T_d51ec_level0_col1\" class=\"col_heading level0 col1\" >value</th>\n",
       "      <th id=\"T_d51ec_level0_col2\" class=\"col_heading level0 col2\" >std_value</th>\n",
       "    </tr>\n",
       "  </thead>\n",
       "  <tbody>\n",
       "    <tr>\n",
       "      <th id=\"T_d51ec_level0_row0\" class=\"row_heading level0 row0\" >4030</th>\n",
       "      <td id=\"T_d51ec_row0_col0\" class=\"data row0 col0\" >2014-02-28 14:17:00</td>\n",
       "      <td id=\"T_d51ec_row0_col1\" class=\"data row0 col1\" >38.458000</td>\n",
       "      <td id=\"T_d51ec_row0_col2\" class=\"data row0 col2\" >-1.081185</td>\n",
       "    </tr>\n",
       "    <tr>\n",
       "      <th id=\"T_d51ec_level0_row1\" class=\"row_heading level0 row1\" >4031</th>\n",
       "      <td id=\"T_d51ec_row1_col0\" class=\"data row1 col0\" >2014-02-28 14:22:00</td>\n",
       "      <td id=\"T_d51ec_row1_col1\" class=\"data row1 col1\" >37.718000</td>\n",
       "      <td id=\"T_d51ec_row1_col2\" class=\"data row1 col2\" >-1.253157</td>\n",
       "    </tr>\n",
       "  </tbody>\n",
       "</table>\n"
      ],
      "text/plain": [
       "<pandas.io.formats.style.Styler at 0x18bdb74a980>"
      ]
     },
     "metadata": {},
     "output_type": "display_data"
    },
    {
     "data": {
      "text/html": [
       "<style type=\"text/css\">\n",
       "</style>\n",
       "<table id=\"T_fc19e\">\n",
       "  <caption>ec2_cpu_utilization_77c1ca.csv</caption>\n",
       "  <thead>\n",
       "    <tr>\n",
       "      <th class=\"blank level0\" >&nbsp;</th>\n",
       "      <th id=\"T_fc19e_level0_col0\" class=\"col_heading level0 col0\" >timestamp</th>\n",
       "      <th id=\"T_fc19e_level0_col1\" class=\"col_heading level0 col1\" >value</th>\n",
       "      <th id=\"T_fc19e_level0_col2\" class=\"col_heading level0 col2\" >std_value</th>\n",
       "    </tr>\n",
       "  </thead>\n",
       "  <tbody>\n",
       "    <tr>\n",
       "      <th id=\"T_fc19e_level0_row0\" class=\"row_heading level0 row0\" >4030</th>\n",
       "      <td id=\"T_fc19e_row0_col0\" class=\"data row0 col0\" >2014-04-16 14:15:00</td>\n",
       "      <td id=\"T_fc19e_row0_col1\" class=\"data row0 col1\" >0.100000</td>\n",
       "      <td id=\"T_fc19e_row0_col2\" class=\"data row0 col2\" >-0.386929</td>\n",
       "    </tr>\n",
       "    <tr>\n",
       "      <th id=\"T_fc19e_level0_row1\" class=\"row_heading level0 row1\" >4031</th>\n",
       "      <td id=\"T_fc19e_row1_col0\" class=\"data row1 col0\" >2014-04-16 14:20:00</td>\n",
       "      <td id=\"T_fc19e_row1_col1\" class=\"data row1 col1\" >0.102000</td>\n",
       "      <td id=\"T_fc19e_row1_col2\" class=\"data row1 col2\" >-0.386855</td>\n",
       "    </tr>\n",
       "  </tbody>\n",
       "</table>\n"
      ],
      "text/plain": [
       "<pandas.io.formats.style.Styler at 0x18bde69b4f0>"
      ]
     },
     "metadata": {},
     "output_type": "display_data"
    },
    {
     "data": {
      "text/html": [
       "<style type=\"text/css\">\n",
       "</style>\n",
       "<table id=\"T_07b8b\">\n",
       "  <caption>ec2_cpu_utilization_825cc2.csv</caption>\n",
       "  <thead>\n",
       "    <tr>\n",
       "      <th class=\"blank level0\" >&nbsp;</th>\n",
       "      <th id=\"T_07b8b_level0_col0\" class=\"col_heading level0 col0\" >timestamp</th>\n",
       "      <th id=\"T_07b8b_level0_col1\" class=\"col_heading level0 col1\" >value</th>\n",
       "      <th id=\"T_07b8b_level0_col2\" class=\"col_heading level0 col2\" >std_value</th>\n",
       "    </tr>\n",
       "  </thead>\n",
       "  <tbody>\n",
       "    <tr>\n",
       "      <th id=\"T_07b8b_level0_row0\" class=\"row_heading level0 row0\" >4030</th>\n",
       "      <td id=\"T_07b8b_row0_col0\" class=\"data row0 col0\" >2014-04-24 00:04:00</td>\n",
       "      <td id=\"T_07b8b_row0_col1\" class=\"data row0 col1\" >95.042000</td>\n",
       "      <td id=\"T_07b8b_row0_col2\" class=\"data row0 col2\" >0.434764</td>\n",
       "    </tr>\n",
       "    <tr>\n",
       "      <th id=\"T_07b8b_level0_row1\" class=\"row_heading level0 row1\" >4031</th>\n",
       "      <td id=\"T_07b8b_row1_col0\" class=\"data row1 col0\" >2014-04-24 00:09:00</td>\n",
       "      <td id=\"T_07b8b_row1_col1\" class=\"data row1 col1\" >96.584000</td>\n",
       "      <td id=\"T_07b8b_row1_col2\" class=\"data row1 col2\" >0.562443</td>\n",
       "    </tr>\n",
       "  </tbody>\n",
       "</table>\n"
      ],
      "text/plain": [
       "<pandas.io.formats.style.Styler at 0x18bde661a80>"
      ]
     },
     "metadata": {},
     "output_type": "display_data"
    },
    {
     "data": {
      "text/html": [
       "<style type=\"text/css\">\n",
       "</style>\n",
       "<table id=\"T_9fc24\">\n",
       "  <caption>ec2_cpu_utilization_ac20cd.csv</caption>\n",
       "  <thead>\n",
       "    <tr>\n",
       "      <th class=\"blank level0\" >&nbsp;</th>\n",
       "      <th id=\"T_9fc24_level0_col0\" class=\"col_heading level0 col0\" >timestamp</th>\n",
       "      <th id=\"T_9fc24_level0_col1\" class=\"col_heading level0 col1\" >value</th>\n",
       "      <th id=\"T_9fc24_level0_col2\" class=\"col_heading level0 col2\" >std_value</th>\n",
       "    </tr>\n",
       "  </thead>\n",
       "  <tbody>\n",
       "    <tr>\n",
       "      <th id=\"T_9fc24_level0_row0\" class=\"row_heading level0 row0\" >4030</th>\n",
       "      <td id=\"T_9fc24_row0_col0\" class=\"data row0 col0\" >2014-04-16 14:44:00</td>\n",
       "      <td id=\"T_9fc24_row0_col1\" class=\"data row0 col1\" >98.552000</td>\n",
       "      <td id=\"T_9fc24_row0_col2\" class=\"data row0 col2\" >2.626415</td>\n",
       "    </tr>\n",
       "    <tr>\n",
       "      <th id=\"T_9fc24_level0_row1\" class=\"row_heading level0 row1\" >4031</th>\n",
       "      <td id=\"T_9fc24_row1_col0\" class=\"data row1 col0\" >2014-04-16 14:49:00</td>\n",
       "      <td id=\"T_9fc24_row1_col1\" class=\"data row1 col1\" >99.222000</td>\n",
       "      <td id=\"T_9fc24_row1_col2\" class=\"data row1 col2\" >2.656983</td>\n",
       "    </tr>\n",
       "  </tbody>\n",
       "</table>\n"
      ],
      "text/plain": [
       "<pandas.io.formats.style.Styler at 0x18bde661a80>"
      ]
     },
     "metadata": {},
     "output_type": "display_data"
    },
    {
     "data": {
      "text/html": [
       "<style type=\"text/css\">\n",
       "</style>\n",
       "<table id=\"T_6dcfa\">\n",
       "  <caption>ec2_cpu_utilization_c6585a.csv</caption>\n",
       "  <thead>\n",
       "    <tr>\n",
       "      <th class=\"blank level0\" >&nbsp;</th>\n",
       "      <th id=\"T_6dcfa_level0_col0\" class=\"col_heading level0 col0\" >timestamp</th>\n",
       "      <th id=\"T_6dcfa_level0_col1\" class=\"col_heading level0 col1\" >value</th>\n",
       "      <th id=\"T_6dcfa_level0_col2\" class=\"col_heading level0 col2\" >std_value</th>\n",
       "    </tr>\n",
       "  </thead>\n",
       "  <tbody>\n",
       "    <tr>\n",
       "      <th id=\"T_6dcfa_level0_row0\" class=\"row_heading level0 row0\" >4030</th>\n",
       "      <td id=\"T_6dcfa_row0_col0\" class=\"data row0 col0\" >2014-04-16 14:19:00</td>\n",
       "      <td id=\"T_6dcfa_row0_col1\" class=\"data row0 col1\" >0.068000</td>\n",
       "      <td id=\"T_6dcfa_row0_col2\" class=\"data row0 col2\" >-0.222397</td>\n",
       "    </tr>\n",
       "    <tr>\n",
       "      <th id=\"T_6dcfa_level0_row1\" class=\"row_heading level0 row1\" >4031</th>\n",
       "      <td id=\"T_6dcfa_row1_col0\" class=\"data row1 col0\" >2014-04-16 14:24:00</td>\n",
       "      <td id=\"T_6dcfa_row1_col1\" class=\"data row1 col1\" >0.068000</td>\n",
       "      <td id=\"T_6dcfa_row1_col2\" class=\"data row1 col2\" >-0.222397</td>\n",
       "    </tr>\n",
       "  </tbody>\n",
       "</table>\n"
      ],
      "text/plain": [
       "<pandas.io.formats.style.Styler at 0x18bde972020>"
      ]
     },
     "metadata": {},
     "output_type": "display_data"
    },
    {
     "data": {
      "text/html": [
       "<style type=\"text/css\">\n",
       "</style>\n",
       "<table id=\"T_77ea0\">\n",
       "  <caption>ec2_cpu_utilization_fe7f93.csv</caption>\n",
       "  <thead>\n",
       "    <tr>\n",
       "      <th class=\"blank level0\" >&nbsp;</th>\n",
       "      <th id=\"T_77ea0_level0_col0\" class=\"col_heading level0 col0\" >timestamp</th>\n",
       "      <th id=\"T_77ea0_level0_col1\" class=\"col_heading level0 col1\" >value</th>\n",
       "      <th id=\"T_77ea0_level0_col2\" class=\"col_heading level0 col2\" >std_value</th>\n",
       "    </tr>\n",
       "  </thead>\n",
       "  <tbody>\n",
       "    <tr>\n",
       "      <th id=\"T_77ea0_level0_row0\" class=\"row_heading level0 row0\" >4030</th>\n",
       "      <td id=\"T_77ea0_row0_col0\" class=\"data row0 col0\" >2014-02-28 14:17:00</td>\n",
       "      <td id=\"T_77ea0_row0_col1\" class=\"data row0 col1\" >2.426000</td>\n",
       "      <td id=\"T_77ea0_row0_col2\" class=\"data row0 col2\" >-0.283903</td>\n",
       "    </tr>\n",
       "    <tr>\n",
       "      <th id=\"T_77ea0_level0_row1\" class=\"row_heading level0 row1\" >4031</th>\n",
       "      <td id=\"T_77ea0_row1_col0\" class=\"data row1 col0\" >2014-02-28 14:22:00</td>\n",
       "      <td id=\"T_77ea0_row1_col1\" class=\"data row1 col1\" >3.252000</td>\n",
       "      <td id=\"T_77ea0_row1_col2\" class=\"data row1 col2\" >-0.213964</td>\n",
       "    </tr>\n",
       "  </tbody>\n",
       "</table>\n"
      ],
      "text/plain": [
       "<pandas.io.formats.style.Styler at 0x18bdeaf2170>"
      ]
     },
     "metadata": {},
     "output_type": "display_data"
    },
    {
     "data": {
      "text/html": [
       "<style type=\"text/css\">\n",
       "</style>\n",
       "<table id=\"T_95068\">\n",
       "  <caption>ec2_disk_write_bytes_1ef3de.csv</caption>\n",
       "  <thead>\n",
       "    <tr>\n",
       "      <th class=\"blank level0\" >&nbsp;</th>\n",
       "      <th id=\"T_95068_level0_col0\" class=\"col_heading level0 col0\" >timestamp</th>\n",
       "      <th id=\"T_95068_level0_col1\" class=\"col_heading level0 col1\" >value</th>\n",
       "      <th id=\"T_95068_level0_col2\" class=\"col_heading level0 col2\" >std_value</th>\n",
       "    </tr>\n",
       "  </thead>\n",
       "  <tbody>\n",
       "    <tr>\n",
       "      <th id=\"T_95068_level0_row0\" class=\"row_heading level0 row0\" >4728</th>\n",
       "      <td id=\"T_95068_row0_col0\" class=\"data row0 col0\" >2014-03-18 03:34:00</td>\n",
       "      <td id=\"T_95068_row0_col1\" class=\"data row0 col1\" >0.000000</td>\n",
       "      <td id=\"T_95068_row0_col2\" class=\"data row0 col2\" >-0.162985</td>\n",
       "    </tr>\n",
       "    <tr>\n",
       "      <th id=\"T_95068_level0_row1\" class=\"row_heading level0 row1\" >4729</th>\n",
       "      <td id=\"T_95068_row1_col0\" class=\"data row1 col0\" >2014-03-18 03:39:00</td>\n",
       "      <td id=\"T_95068_row1_col1\" class=\"data row1 col1\" >0.000000</td>\n",
       "      <td id=\"T_95068_row1_col2\" class=\"data row1 col2\" >-0.162985</td>\n",
       "    </tr>\n",
       "  </tbody>\n",
       "</table>\n"
      ],
      "text/plain": [
       "<pandas.io.formats.style.Styler at 0x18bdeaf2260>"
      ]
     },
     "metadata": {},
     "output_type": "display_data"
    },
    {
     "data": {
      "text/html": [
       "<style type=\"text/css\">\n",
       "</style>\n",
       "<table id=\"T_24c3a\">\n",
       "  <caption>ec2_disk_write_bytes_c0d644.csv</caption>\n",
       "  <thead>\n",
       "    <tr>\n",
       "      <th class=\"blank level0\" >&nbsp;</th>\n",
       "      <th id=\"T_24c3a_level0_col0\" class=\"col_heading level0 col0\" >timestamp</th>\n",
       "      <th id=\"T_24c3a_level0_col1\" class=\"col_heading level0 col1\" >value</th>\n",
       "      <th id=\"T_24c3a_level0_col2\" class=\"col_heading level0 col2\" >std_value</th>\n",
       "    </tr>\n",
       "  </thead>\n",
       "  <tbody>\n",
       "    <tr>\n",
       "      <th id=\"T_24c3a_level0_row0\" class=\"row_heading level0 row0\" >4030</th>\n",
       "      <td id=\"T_24c3a_row0_col0\" class=\"data row0 col0\" >2014-04-16 14:15:00</td>\n",
       "      <td id=\"T_24c3a_row0_col1\" class=\"data row0 col1\" >0.000000</td>\n",
       "      <td id=\"T_24c3a_row0_col2\" class=\"data row0 col2\" >-0.217493</td>\n",
       "    </tr>\n",
       "    <tr>\n",
       "      <th id=\"T_24c3a_level0_row1\" class=\"row_heading level0 row1\" >4031</th>\n",
       "      <td id=\"T_24c3a_row1_col0\" class=\"data row1 col0\" >2014-04-16 14:20:00</td>\n",
       "      <td id=\"T_24c3a_row1_col1\" class=\"data row1 col1\" >0.000000</td>\n",
       "      <td id=\"T_24c3a_row1_col2\" class=\"data row1 col2\" >-0.217493</td>\n",
       "    </tr>\n",
       "  </tbody>\n",
       "</table>\n"
      ],
      "text/plain": [
       "<pandas.io.formats.style.Styler at 0x18bde971e70>"
      ]
     },
     "metadata": {},
     "output_type": "display_data"
    },
    {
     "data": {
      "text/html": [
       "<style type=\"text/css\">\n",
       "</style>\n",
       "<table id=\"T_c488a\">\n",
       "  <caption>ec2_network_in_257a54.csv</caption>\n",
       "  <thead>\n",
       "    <tr>\n",
       "      <th class=\"blank level0\" >&nbsp;</th>\n",
       "      <th id=\"T_c488a_level0_col0\" class=\"col_heading level0 col0\" >timestamp</th>\n",
       "      <th id=\"T_c488a_level0_col1\" class=\"col_heading level0 col1\" >value</th>\n",
       "      <th id=\"T_c488a_level0_col2\" class=\"col_heading level0 col2\" >std_value</th>\n",
       "    </tr>\n",
       "  </thead>\n",
       "  <tbody>\n",
       "    <tr>\n",
       "      <th id=\"T_c488a_level0_row0\" class=\"row_heading level0 row0\" >4030</th>\n",
       "      <td id=\"T_c488a_row0_col0\" class=\"data row0 col0\" >2014-04-24 00:04:00</td>\n",
       "      <td id=\"T_c488a_row0_col1\" class=\"data row0 col1\" >238302.000000</td>\n",
       "      <td id=\"T_c488a_row0_col2\" class=\"data row0 col2\" >-0.072171</td>\n",
       "    </tr>\n",
       "    <tr>\n",
       "      <th id=\"T_c488a_level0_row1\" class=\"row_heading level0 row1\" >4031</th>\n",
       "      <td id=\"T_c488a_row1_col0\" class=\"data row1 col0\" >2014-04-24 00:09:00</td>\n",
       "      <td id=\"T_c488a_row1_col1\" class=\"data row1 col1\" >242084.000000</td>\n",
       "      <td id=\"T_c488a_row1_col2\" class=\"data row1 col2\" >-0.071350</td>\n",
       "    </tr>\n",
       "  </tbody>\n",
       "</table>\n"
      ],
      "text/plain": [
       "<pandas.io.formats.style.Styler at 0x18bdeaf17e0>"
      ]
     },
     "metadata": {},
     "output_type": "display_data"
    },
    {
     "data": {
      "text/html": [
       "<style type=\"text/css\">\n",
       "</style>\n",
       "<table id=\"T_797ca\">\n",
       "  <caption>ec2_network_in_5abac7.csv</caption>\n",
       "  <thead>\n",
       "    <tr>\n",
       "      <th class=\"blank level0\" >&nbsp;</th>\n",
       "      <th id=\"T_797ca_level0_col0\" class=\"col_heading level0 col0\" >timestamp</th>\n",
       "      <th id=\"T_797ca_level0_col1\" class=\"col_heading level0 col1\" >value</th>\n",
       "      <th id=\"T_797ca_level0_col2\" class=\"col_heading level0 col2\" >std_value</th>\n",
       "    </tr>\n",
       "  </thead>\n",
       "  <tbody>\n",
       "    <tr>\n",
       "      <th id=\"T_797ca_level0_row0\" class=\"row_heading level0 row0\" >4728</th>\n",
       "      <td id=\"T_797ca_row0_col0\" class=\"data row0 col0\" >2014-03-18 03:36:00</td>\n",
       "      <td id=\"T_797ca_row0_col1\" class=\"data row0 col1\" >75.000000</td>\n",
       "      <td id=\"T_797ca_row0_col2\" class=\"data row0 col2\" >-0.152958</td>\n",
       "    </tr>\n",
       "    <tr>\n",
       "      <th id=\"T_797ca_level0_row1\" class=\"row_heading level0 row1\" >4729</th>\n",
       "      <td id=\"T_797ca_row1_col0\" class=\"data row1 col0\" >2014-03-18 03:41:00</td>\n",
       "      <td id=\"T_797ca_row1_col1\" class=\"data row1 col1\" >75.000000</td>\n",
       "      <td id=\"T_797ca_row1_col2\" class=\"data row1 col2\" >-0.152958</td>\n",
       "    </tr>\n",
       "  </tbody>\n",
       "</table>\n"
      ],
      "text/plain": [
       "<pandas.io.formats.style.Styler at 0x18bde9721d0>"
      ]
     },
     "metadata": {},
     "output_type": "display_data"
    },
    {
     "data": {
      "text/html": [
       "<style type=\"text/css\">\n",
       "</style>\n",
       "<table id=\"T_95b6c\">\n",
       "  <caption>elb_request_count_8c0756.csv</caption>\n",
       "  <thead>\n",
       "    <tr>\n",
       "      <th class=\"blank level0\" >&nbsp;</th>\n",
       "      <th id=\"T_95b6c_level0_col0\" class=\"col_heading level0 col0\" >timestamp</th>\n",
       "      <th id=\"T_95b6c_level0_col1\" class=\"col_heading level0 col1\" >value</th>\n",
       "      <th id=\"T_95b6c_level0_col2\" class=\"col_heading level0 col2\" >std_value</th>\n",
       "    </tr>\n",
       "  </thead>\n",
       "  <tbody>\n",
       "    <tr>\n",
       "      <th id=\"T_95b6c_level0_row0\" class=\"row_heading level0 row0\" >4030</th>\n",
       "      <td id=\"T_95b6c_row0_col0\" class=\"data row0 col0\" >2014-04-24 00:34:00</td>\n",
       "      <td id=\"T_95b6c_row0_col1\" class=\"data row0 col1\" >18.000000</td>\n",
       "      <td id=\"T_95b6c_row0_col2\" class=\"data row0 col2\" >-0.773718</td>\n",
       "    </tr>\n",
       "    <tr>\n",
       "      <th id=\"T_95b6c_level0_row1\" class=\"row_heading level0 row1\" >4031</th>\n",
       "      <td id=\"T_95b6c_row1_col0\" class=\"data row1 col0\" >2014-04-24 00:39:00</td>\n",
       "      <td id=\"T_95b6c_row1_col1\" class=\"data row1 col1\" >60.000000</td>\n",
       "      <td id=\"T_95b6c_row1_col2\" class=\"data row1 col2\" >-0.032424</td>\n",
       "    </tr>\n",
       "  </tbody>\n",
       "</table>\n"
      ],
      "text/plain": [
       "<pandas.io.formats.style.Styler at 0x18bde972710>"
      ]
     },
     "metadata": {},
     "output_type": "display_data"
    },
    {
     "data": {
      "text/html": [
       "<style type=\"text/css\">\n",
       "</style>\n",
       "<table id=\"T_9df8a\">\n",
       "  <caption>grok_asg_anomaly.csv</caption>\n",
       "  <thead>\n",
       "    <tr>\n",
       "      <th class=\"blank level0\" >&nbsp;</th>\n",
       "      <th id=\"T_9df8a_level0_col0\" class=\"col_heading level0 col0\" >timestamp</th>\n",
       "      <th id=\"T_9df8a_level0_col1\" class=\"col_heading level0 col1\" >value</th>\n",
       "      <th id=\"T_9df8a_level0_col2\" class=\"col_heading level0 col2\" >std_value</th>\n",
       "    </tr>\n",
       "  </thead>\n",
       "  <tbody>\n",
       "    <tr>\n",
       "      <th id=\"T_9df8a_level0_row0\" class=\"row_heading level0 row0\" >4619</th>\n",
       "      <td id=\"T_9df8a_row0_col0\" class=\"data row0 col0\" >2014-02-01 00:55:00</td>\n",
       "      <td id=\"T_9df8a_row0_col1\" class=\"data row0 col1\" >0.000000</td>\n",
       "      <td id=\"T_9df8a_row0_col2\" class=\"data row0 col2\" >-2.106364</td>\n",
       "    </tr>\n",
       "    <tr>\n",
       "      <th id=\"T_9df8a_level0_row1\" class=\"row_heading level0 row1\" >4620</th>\n",
       "      <td id=\"T_9df8a_row1_col0\" class=\"data row1 col0\" >2014-02-01 01:00:00</td>\n",
       "      <td id=\"T_9df8a_row1_col1\" class=\"data row1 col1\" >0.334000</td>\n",
       "      <td id=\"T_9df8a_row1_col2\" class=\"data row1 col2\" >-2.080952</td>\n",
       "    </tr>\n",
       "  </tbody>\n",
       "</table>\n"
      ],
      "text/plain": [
       "<pandas.io.formats.style.Styler at 0x18bde662560>"
      ]
     },
     "metadata": {},
     "output_type": "display_data"
    },
    {
     "data": {
      "text/html": [
       "<style type=\"text/css\">\n",
       "</style>\n",
       "<table id=\"T_e1596\">\n",
       "  <caption>iio_us-east-1_i-a2eb1cd9_NetworkIn.csv</caption>\n",
       "  <thead>\n",
       "    <tr>\n",
       "      <th class=\"blank level0\" >&nbsp;</th>\n",
       "      <th id=\"T_e1596_level0_col0\" class=\"col_heading level0 col0\" >timestamp</th>\n",
       "      <th id=\"T_e1596_level0_col1\" class=\"col_heading level0 col1\" >value</th>\n",
       "      <th id=\"T_e1596_level0_col2\" class=\"col_heading level0 col2\" >std_value</th>\n",
       "    </tr>\n",
       "  </thead>\n",
       "  <tbody>\n",
       "    <tr>\n",
       "      <th id=\"T_e1596_level0_row0\" class=\"row_heading level0 row0\" >1241</th>\n",
       "      <td id=\"T_e1596_row0_col0\" class=\"data row0 col0\" >2013-10-13 23:50:00</td>\n",
       "      <td id=\"T_e1596_row0_col1\" class=\"data row0 col1\" >7988676.200000</td>\n",
       "      <td id=\"T_e1596_row0_col2\" class=\"data row0 col2\" >0.744295</td>\n",
       "    </tr>\n",
       "    <tr>\n",
       "      <th id=\"T_e1596_level0_row1\" class=\"row_heading level0 row1\" >1242</th>\n",
       "      <td id=\"T_e1596_row1_col0\" class=\"data row1 col0\" >2013-10-13 23:55:00</td>\n",
       "      <td id=\"T_e1596_row1_col1\" class=\"data row1 col1\" >7788122.600000</td>\n",
       "      <td id=\"T_e1596_row1_col2\" class=\"data row1 col2\" >0.700046</td>\n",
       "    </tr>\n",
       "  </tbody>\n",
       "</table>\n"
      ],
      "text/plain": [
       "<pandas.io.formats.style.Styler at 0x18bde661930>"
      ]
     },
     "metadata": {},
     "output_type": "display_data"
    },
    {
     "data": {
      "text/html": [
       "<style type=\"text/css\">\n",
       "</style>\n",
       "<table id=\"T_105f9\">\n",
       "  <caption>rds_cpu_utilization_cc0c53.csv</caption>\n",
       "  <thead>\n",
       "    <tr>\n",
       "      <th class=\"blank level0\" >&nbsp;</th>\n",
       "      <th id=\"T_105f9_level0_col0\" class=\"col_heading level0 col0\" >timestamp</th>\n",
       "      <th id=\"T_105f9_level0_col1\" class=\"col_heading level0 col1\" >value</th>\n",
       "      <th id=\"T_105f9_level0_col2\" class=\"col_heading level0 col2\" >std_value</th>\n",
       "    </tr>\n",
       "  </thead>\n",
       "  <tbody>\n",
       "    <tr>\n",
       "      <th id=\"T_105f9_level0_row0\" class=\"row_heading level0 row0\" >4030</th>\n",
       "      <td id=\"T_105f9_row0_col0\" class=\"data row0 col0\" >2014-02-28 14:25:00</td>\n",
       "      <td id=\"T_105f9_row0_col1\" class=\"data row0 col1\" >13.943300</td>\n",
       "      <td id=\"T_105f9_row0_col2\" class=\"data row0 col2\" >1.596652</td>\n",
       "    </tr>\n",
       "    <tr>\n",
       "      <th id=\"T_105f9_level0_row1\" class=\"row_heading level0 row1\" >4031</th>\n",
       "      <td id=\"T_105f9_row1_col0\" class=\"data row1 col0\" >2014-02-28 14:30:00</td>\n",
       "      <td id=\"T_105f9_row1_col1\" class=\"data row1 col1\" >15.556700</td>\n",
       "      <td id=\"T_105f9_row1_col2\" class=\"data row1 col2\" >2.038428</td>\n",
       "    </tr>\n",
       "  </tbody>\n",
       "</table>\n"
      ],
      "text/plain": [
       "<pandas.io.formats.style.Styler at 0x18bde6ac2e0>"
      ]
     },
     "metadata": {},
     "output_type": "display_data"
    },
    {
     "data": {
      "text/html": [
       "<style type=\"text/css\">\n",
       "</style>\n",
       "<table id=\"T_f6614\">\n",
       "  <caption>rds_cpu_utilization_e47b3b.csv</caption>\n",
       "  <thead>\n",
       "    <tr>\n",
       "      <th class=\"blank level0\" >&nbsp;</th>\n",
       "      <th id=\"T_f6614_level0_col0\" class=\"col_heading level0 col0\" >timestamp</th>\n",
       "      <th id=\"T_f6614_level0_col1\" class=\"col_heading level0 col1\" >value</th>\n",
       "      <th id=\"T_f6614_level0_col2\" class=\"col_heading level0 col2\" >std_value</th>\n",
       "    </tr>\n",
       "  </thead>\n",
       "  <tbody>\n",
       "    <tr>\n",
       "      <th id=\"T_f6614_level0_row0\" class=\"row_heading level0 row0\" >4030</th>\n",
       "      <td id=\"T_f6614_row0_col0\" class=\"data row0 col0\" >2014-04-23 23:52:00</td>\n",
       "      <td id=\"T_f6614_row0_col1\" class=\"data row0 col1\" >16.252500</td>\n",
       "      <td id=\"T_f6614_row0_col2\" class=\"data row0 col2\" >-0.478610</td>\n",
       "    </tr>\n",
       "    <tr>\n",
       "      <th id=\"T_f6614_level0_row1\" class=\"row_heading level0 row1\" >4031</th>\n",
       "      <td id=\"T_f6614_row1_col0\" class=\"data row1 col0\" >2014-04-23 23:57:00</td>\n",
       "      <td id=\"T_f6614_row1_col1\" class=\"data row1 col1\" >18.005000</td>\n",
       "      <td id=\"T_f6614_row1_col2\" class=\"data row1 col2\" >-0.165915</td>\n",
       "    </tr>\n",
       "  </tbody>\n",
       "</table>\n"
      ],
      "text/plain": [
       "<pandas.io.formats.style.Styler at 0x18bde970f70>"
      ]
     },
     "metadata": {},
     "output_type": "display_data"
    }
   ],
   "source": [
    "AWS_name_gen = (x.name for x in all_AWS_paths)\n",
    "all_AWS_df_list = [pd.read_csv(my_path) for my_path in all_AWS_paths]\n",
    "\n",
    "for df in all_AWS_df_list:\n",
    "    std_scaler = StandardScaler()\n",
    "    rbst_scaler = RobustScaler()\n",
    "    df['timestamp'] = pd.to_datetime(df['timestamp'])\n",
    "    df['std_value'] = std_scaler.fit_transform(df[['value']]) # reminder that double brackets returns a df, not a series\n",
    "    # df['rbst_value'] = rbst_scaler.fit_transform(df[['value']])\n",
    "    # df.style.set_caption(next(AWS_name_gen, \"somethingWentWrong\"))\n",
    "    \n",
    "    display(df.tail(2).style.set_caption(next(AWS_name_gen, \"somethingWentWrong\")))"
   ]
  },
  {
   "cell_type": "code",
   "execution_count": 94,
   "id": "f45f87a7",
   "metadata": {},
   "outputs": [],
   "source": [
    "inp_df = all_AWS_df_list[0]"
   ]
  },
  {
   "cell_type": "code",
   "execution_count": 97,
   "id": "261215cc",
   "metadata": {},
   "outputs": [],
   "source": [
    "def run_iso(my_df, window=5, contamination=\"auto\"):\n",
    "    # window = 5\n",
    "    X = []\n",
    "\n",
    "    for i in range(len(my_df) - window):\n",
    "        X.append(my_df['std_value'].iloc[i:i+window].values)\n",
    "\n",
    "    X = np.array(X)\n",
    "\n",
    "    iso = IsolationForest(contamination=contamination, random_state=1)\n",
    "    y_pred = iso.fit_predict(X)\n",
    "\n",
    "    # align predictions with dataframe\n",
    "    my_df['anomaly_window'] = 0\n",
    "    my_df.loc[window-1:, 'anomaly_window'] = np.append((y_pred == -1).astype(int), 1) # fixing the minor misalignment\n"
   ]
  },
  {
   "cell_type": "code",
   "execution_count": 98,
   "id": "2ff9e5af",
   "metadata": {},
   "outputs": [],
   "source": [
    "run_iso(inp_df, window=7)\n",
    "# inp_df"
   ]
  },
  {
   "cell_type": "code",
   "execution_count": 99,
   "id": "bcb744d9",
   "metadata": {},
   "outputs": [
    {
     "data": {
      "text/html": [
       "<div>\n",
       "<style scoped>\n",
       "    .dataframe tbody tr th:only-of-type {\n",
       "        vertical-align: middle;\n",
       "    }\n",
       "\n",
       "    .dataframe tbody tr th {\n",
       "        vertical-align: top;\n",
       "    }\n",
       "\n",
       "    .dataframe thead th {\n",
       "        text-align: right;\n",
       "    }\n",
       "</style>\n",
       "<table border=\"1\" class=\"dataframe\">\n",
       "  <thead>\n",
       "    <tr style=\"text-align: right;\">\n",
       "      <th></th>\n",
       "      <th>timestamp</th>\n",
       "      <th>value</th>\n",
       "      <th>std_value</th>\n",
       "      <th>anomaly_window</th>\n",
       "    </tr>\n",
       "  </thead>\n",
       "  <tbody>\n",
       "    <tr>\n",
       "      <th>151</th>\n",
       "      <td>2014-02-15 03:05:00</td>\n",
       "      <td>1.466</td>\n",
       "      <td>14.131662</td>\n",
       "      <td>1</td>\n",
       "    </tr>\n",
       "    <tr>\n",
       "      <th>152</th>\n",
       "      <td>2014-02-15 03:10:00</td>\n",
       "      <td>0.066</td>\n",
       "      <td>-0.636101</td>\n",
       "      <td>1</td>\n",
       "    </tr>\n",
       "    <tr>\n",
       "      <th>153</th>\n",
       "      <td>2014-02-15 03:15:00</td>\n",
       "      <td>0.134</td>\n",
       "      <td>0.081190</td>\n",
       "      <td>1</td>\n",
       "    </tr>\n",
       "    <tr>\n",
       "      <th>154</th>\n",
       "      <td>2014-02-15 03:20:00</td>\n",
       "      <td>0.134</td>\n",
       "      <td>0.081190</td>\n",
       "      <td>1</td>\n",
       "    </tr>\n",
       "    <tr>\n",
       "      <th>155</th>\n",
       "      <td>2014-02-15 03:25:00</td>\n",
       "      <td>0.134</td>\n",
       "      <td>0.081190</td>\n",
       "      <td>1</td>\n",
       "    </tr>\n",
       "  </tbody>\n",
       "</table>\n",
       "</div>"
      ],
      "text/plain": [
       "              timestamp  value  std_value  anomaly_window\n",
       "151 2014-02-15 03:05:00  1.466  14.131662               1\n",
       "152 2014-02-15 03:10:00  0.066  -0.636101               1\n",
       "153 2014-02-15 03:15:00  0.134   0.081190               1\n",
       "154 2014-02-15 03:20:00  0.134   0.081190               1\n",
       "155 2014-02-15 03:25:00  0.134   0.081190               1"
      ]
     },
     "execution_count": 99,
     "metadata": {},
     "output_type": "execute_result"
    }
   ],
   "source": [
    "# inp_df.describe()\n",
    "inp_df[inp_df[\"anomaly_window\"] == 1].head()"
   ]
  },
  {
   "cell_type": "code",
   "execution_count": 100,
   "id": "c2d42e5e",
   "metadata": {},
   "outputs": [
    {
     "data": {
      "image/png": "[encoded data removed]",
      "text/plain": [
       "<Figure size 1200x600 with 1 Axes>"
      ]
     },
     "metadata": {},
     "output_type": "display_data"
    }
   ],
   "source": [
    "plt.figure(figsize=(12,6))\n",
    "plt.plot(inp_df['timestamp'], inp_df['std_value'], label='Standard-scaled Value', color='blue', zorder=1)\n",
    "\n",
    "# Optional: highlight anomalies if you have them\n",
    "anomalies = inp_df[inp_df['anomaly_window'] == 1]\n",
    "plt.scatter(anomalies['timestamp'], anomalies['std_value'], \n",
    "            color='red', label='Anomaly', marker='x', zorder=2)\n",
    "\n",
    "plt.xlabel(\"Timestamp\")\n",
    "plt.ylabel(\"Standard-scaled value\")\n",
    "plt.legend()\n",
    "plt.grid(True)\n",
    "plt.show()\n"
   ]
  }
 ],
 "metadata": {
  "kernelspec": {
   "display_name": ".venv",
   "language": "python",
   "name": "python3"
  },
  "language_info": {
   "codemirror_mode": {
    "name": "ipython",
    "version": 3
   },
   "file_extension": ".py",
   "mimetype": "text/x-python",
   "name": "python",
   "nbconvert_exporter": "python",
   "pygments_lexer": "ipython3",
   "version": "3.10.11"
  }
 },
 "nbformat": 4,
 "nbformat_minor": 5
}
